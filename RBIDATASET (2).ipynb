{
 "cells": [
  {
   "cell_type": "code",
   "execution_count": 101,
   "id": "46180bb3-44df-4392-806c-6ac6b16f56bc",
   "metadata": {},
   "outputs": [],
   "source": [
    "import pandas as pd"
   ]
  },
  {
   "cell_type": "code",
   "execution_count": 102,
   "id": "2f9a6b00-a5b1-46bb-b083-f1a13c9440db",
   "metadata": {},
   "outputs": [],
   "source": [
    "dataset = pd.read_excel(r\"C:\\Users\\NAMRATA\\Downloads\\RBI_Data.xlsx\")"
   ]
  },
  {
   "cell_type": "code",
   "execution_count": 103,
   "id": "3bd769be-b776-45bc-9537-492809f17367",
   "metadata": {},
   "outputs": [
    {
     "data": {
      "text/html": [
       "<div>\n",
       "<style scoped>\n",
       "    .dataframe tbody tr th:only-of-type {\n",
       "        vertical-align: middle;\n",
       "    }\n",
       "\n",
       "    .dataframe tbody tr th {\n",
       "        vertical-align: top;\n",
       "    }\n",
       "\n",
       "    .dataframe thead th {\n",
       "        text-align: right;\n",
       "    }\n",
       "</style>\n",
       "<table border=\"1\" class=\"dataframe\">\n",
       "  <thead>\n",
       "    <tr style=\"text-align: right;\">\n",
       "      <th></th>\n",
       "      <th>year</th>\n",
       "      <th>Currenc_ in_circulation-Total</th>\n",
       "      <th>Other'_deposits_with_RBI</th>\n",
       "      <th>Bankers'_deposits_with_RBI</th>\n",
       "      <th>Reserve_Money_(Liabilities/Components)</th>\n",
       "      <th>RBI's_Claims_on-Government (net)</th>\n",
       "      <th>RBI's_Claims_on_Central_Govt</th>\n",
       "      <th>RBI's_Claims_on_Banks_&amp;_Commercial_sector</th>\n",
       "      <th>RBI's_Claims_on_Banks_(Including_NABARD)</th>\n",
       "      <th>RBI's_claims_on_Commercial_sector (Excluding_NABARD)</th>\n",
       "      <th>Net_foreign_exchange_assets_of_RBI</th>\n",
       "      <th>Govt't_currency_liabilities_to_the_public</th>\n",
       "      <th>Ne_ non-monetary_liabilities_of_RBI</th>\n",
       "    </tr>\n",
       "  </thead>\n",
       "  <tbody>\n",
       "    <tr>\n",
       "      <th>0</th>\n",
       "      <td>2020-08-21</td>\n",
       "      <td>2.688322e+06</td>\n",
       "      <td>39768.5731</td>\n",
       "      <td>464794.0</td>\n",
       "      <td>3.192884e+06</td>\n",
       "      <td>994754.0</td>\n",
       "      <td>988987</td>\n",
       "      <td>-346453.0</td>\n",
       "      <td>-358066.0</td>\n",
       "      <td>11613.0</td>\n",
       "      <td>4.007883e+06</td>\n",
       "      <td>26314.5548</td>\n",
       "      <td>1489614.03</td>\n",
       "    </tr>\n",
       "    <tr>\n",
       "      <th>1</th>\n",
       "      <td>2020-08-14</td>\n",
       "      <td>2.691706e+06</td>\n",
       "      <td>39542.5731</td>\n",
       "      <td>470719.0</td>\n",
       "      <td>3.201967e+06</td>\n",
       "      <td>979844.0</td>\n",
       "      <td>969138</td>\n",
       "      <td>-310131.0</td>\n",
       "      <td>-321744.0</td>\n",
       "      <td>11613.0</td>\n",
       "      <td>3.993710e+06</td>\n",
       "      <td>26314.5548</td>\n",
       "      <td>1487770.03</td>\n",
       "    </tr>\n",
       "    <tr>\n",
       "      <th>2</th>\n",
       "      <td>2020-08-07</td>\n",
       "      <td>2.686070e+06</td>\n",
       "      <td>39754.5731</td>\n",
       "      <td>461436.0</td>\n",
       "      <td>3.187260e+06</td>\n",
       "      <td>1075013.0</td>\n",
       "      <td>1065083</td>\n",
       "      <td>-360149.0</td>\n",
       "      <td>-371737.0</td>\n",
       "      <td>11588.0</td>\n",
       "      <td>4.017184e+06</td>\n",
       "      <td>26314.5548</td>\n",
       "      <td>1571102.03</td>\n",
       "    </tr>\n",
       "    <tr>\n",
       "      <th>3</th>\n",
       "      <td>2020-07-31</td>\n",
       "      <td>2.672446e+06</td>\n",
       "      <td>39706.5731</td>\n",
       "      <td>469087.0</td>\n",
       "      <td>3.181239e+06</td>\n",
       "      <td>1078662.0</td>\n",
       "      <td>1073847</td>\n",
       "      <td>-359983.0</td>\n",
       "      <td>-371571.0</td>\n",
       "      <td>11588.0</td>\n",
       "      <td>3.983510e+06</td>\n",
       "      <td>26314.5548</td>\n",
       "      <td>1547264.03</td>\n",
       "    </tr>\n",
       "    <tr>\n",
       "      <th>4</th>\n",
       "      <td>2020-07-24</td>\n",
       "      <td>2.670987e+06</td>\n",
       "      <td>39206.5731</td>\n",
       "      <td>465767.0</td>\n",
       "      <td>3.175960e+06</td>\n",
       "      <td>1016187.0</td>\n",
       "      <td>1010579</td>\n",
       "      <td>-254380.0</td>\n",
       "      <td>-265960.0</td>\n",
       "      <td>11580.0</td>\n",
       "      <td>3.896503e+06</td>\n",
       "      <td>26314.5548</td>\n",
       "      <td>1508664.03</td>\n",
       "    </tr>\n",
       "  </tbody>\n",
       "</table>\n",
       "</div>"
      ],
      "text/plain": [
       "        year  Currenc_ in_circulation-Total   Other'_deposits_with_RBI   \\\n",
       "0 2020-08-21                    2.688322e+06                 39768.5731   \n",
       "1 2020-08-14                    2.691706e+06                 39542.5731   \n",
       "2 2020-08-07                    2.686070e+06                 39754.5731   \n",
       "3 2020-07-31                    2.672446e+06                 39706.5731   \n",
       "4 2020-07-24                    2.670987e+06                 39206.5731   \n",
       "\n",
       "   Bankers'_deposits_with_RBI   Reserve_Money_(Liabilities/Components)   \\\n",
       "0                     464794.0                             3.192884e+06   \n",
       "1                     470719.0                             3.201967e+06   \n",
       "2                     461436.0                             3.187260e+06   \n",
       "3                     469087.0                             3.181239e+06   \n",
       "4                     465767.0                             3.175960e+06   \n",
       "\n",
       "   RBI's_Claims_on-Government (net) RBI's_Claims_on_Central_Govt  \\\n",
       "0                          994754.0                       988987   \n",
       "1                          979844.0                       969138   \n",
       "2                         1075013.0                      1065083   \n",
       "3                         1078662.0                      1073847   \n",
       "4                         1016187.0                      1010579   \n",
       "\n",
       "   RBI's_Claims_on_Banks_&_Commercial_sector  \\\n",
       "0                                  -346453.0   \n",
       "1                                  -310131.0   \n",
       "2                                  -360149.0   \n",
       "3                                  -359983.0   \n",
       "4                                  -254380.0   \n",
       "\n",
       "   RBI's_Claims_on_Banks_(Including_NABARD)  \\\n",
       "0                                 -358066.0   \n",
       "1                                 -321744.0   \n",
       "2                                 -371737.0   \n",
       "3                                 -371571.0   \n",
       "4                                 -265960.0   \n",
       "\n",
       "   RBI's_claims_on_Commercial_sector (Excluding_NABARD)   \\\n",
       "0                                            11613.0       \n",
       "1                                            11613.0       \n",
       "2                                            11588.0       \n",
       "3                                            11588.0       \n",
       "4                                            11580.0       \n",
       "\n",
       "   Net_foreign_exchange_assets_of_RBI   \\\n",
       "0                         4.007883e+06   \n",
       "1                         3.993710e+06   \n",
       "2                         4.017184e+06   \n",
       "3                         3.983510e+06   \n",
       "4                         3.896503e+06   \n",
       "\n",
       "   Govt't_currency_liabilities_to_the_public   \\\n",
       "0                                  26314.5548   \n",
       "1                                  26314.5548   \n",
       "2                                  26314.5548   \n",
       "3                                  26314.5548   \n",
       "4                                  26314.5548   \n",
       "\n",
       "   Ne_ non-monetary_liabilities_of_RBI   \n",
       "0                            1489614.03  \n",
       "1                            1487770.03  \n",
       "2                            1571102.03  \n",
       "3                            1547264.03  \n",
       "4                            1508664.03  "
      ]
     },
     "execution_count": 103,
     "metadata": {},
     "output_type": "execute_result"
    }
   ],
   "source": [
    "dataset.head()"
   ]
  },
  {
   "cell_type": "code",
   "execution_count": 104,
   "id": "3c66aaf3-7198-488f-856d-e7ebce5f6e87",
   "metadata": {},
   "outputs": [
    {
     "data": {
      "text/plain": [
       "1007"
      ]
     },
     "execution_count": 104,
     "metadata": {},
     "output_type": "execute_result"
    }
   ],
   "source": [
    "dataset.shape[0]"
   ]
  },
  {
   "cell_type": "code",
   "execution_count": 105,
   "id": "7c0d9376-408c-4ada-b5f5-99344e46b7ce",
   "metadata": {},
   "outputs": [
    {
     "name": "stdout",
     "output_type": "stream",
     "text": [
      "<class 'pandas.core.frame.DataFrame'>\n",
      "RangeIndex: 1007 entries, 0 to 1006\n",
      "Data columns (total 13 columns):\n",
      " #   Column                                                 Non-Null Count  Dtype         \n",
      "---  ------                                                 --------------  -----         \n",
      " 0   year                                                   1007 non-null   datetime64[ns]\n",
      " 1   Currenc_ in_circulation-Total                          1007 non-null   float64       \n",
      " 2   Other'_deposits_with_RBI                               1006 non-null   float64       \n",
      " 3   Bankers'_deposits_with_RBI                             1007 non-null   float64       \n",
      " 4   Reserve_Money_(Liabilities/Components)                 1007 non-null   float64       \n",
      " 5   RBI's_Claims_on-Government (net)                       1006 non-null   float64       \n",
      " 6   RBI's_Claims_on_Central_Govt                           932 non-null    object        \n",
      " 7   RBI's_Claims_on_Banks_&_Commercial_sector              1006 non-null   float64       \n",
      " 8   RBI's_Claims_on_Banks_(Including_NABARD)               1006 non-null   float64       \n",
      " 9   RBI's_claims_on_Commercial_sector (Excluding_NABARD)   1006 non-null   float64       \n",
      " 10  Net_foreign_exchange_assets_of_RBI                     1006 non-null   float64       \n",
      " 11  Govt't_currency_liabilities_to_the_public              1006 non-null   float64       \n",
      " 12  Ne_ non-monetary_liabilities_of_RBI                    1006 non-null   float64       \n",
      "dtypes: datetime64[ns](1), float64(11), object(1)\n",
      "memory usage: 102.4+ KB\n"
     ]
    }
   ],
   "source": [
    "dataset.info()"
   ]
  },
  {
   "cell_type": "code",
   "execution_count": null,
   "id": "fa6f0dc8-0933-412b-9175-aac5f72b47d8",
   "metadata": {},
   "outputs": [],
   "source": []
  },
  {
   "cell_type": "markdown",
   "id": "2a211156-09ca-4220-a327-9da8effde697",
   "metadata": {},
   "source": [
    "#calculating the percentage of null values"
   ]
  },
  {
   "cell_type": "code",
   "execution_count": 106,
   "id": "8ae3deb2-fc2f-4840-b871-17a979a30dc7",
   "metadata": {},
   "outputs": [
    {
     "data": {
      "text/plain": [
       "year                                                     0.000000\n",
       "Currenc_ in_circulation-Total                            0.000000\n",
       "Other'_deposits_with_RBI                                 0.099305\n",
       "Bankers'_deposits_with_RBI                               0.000000\n",
       "Reserve_Money_(Liabilities/Components)                   0.000000\n",
       "RBI's_Claims_on-Government (net)                         0.099305\n",
       "RBI's_Claims_on_Central_Govt                             7.447865\n",
       "RBI's_Claims_on_Banks_&_Commercial_sector                0.099305\n",
       "RBI's_Claims_on_Banks_(Including_NABARD)                 0.099305\n",
       "RBI's_claims_on_Commercial_sector (Excluding_NABARD)     0.099305\n",
       "Net_foreign_exchange_assets_of_RBI                       0.099305\n",
       "Govt't_currency_liabilities_to_the_public                0.099305\n",
       "Ne_ non-monetary_liabilities_of_RBI                      0.099305\n",
       "dtype: float64"
      ]
     },
     "execution_count": 106,
     "metadata": {},
     "output_type": "execute_result"
    }
   ],
   "source": [
    "(dataset.isnull().sum()/dataset.shape[0])*100\n"
   ]
  },
  {
   "cell_type": "code",
   "execution_count": 107,
   "id": "20e50645-f402-4f3d-ad0c-883c561db122",
   "metadata": {},
   "outputs": [],
   "source": [
    "dataset.dropna(inplace=True)"
   ]
  },
  {
   "cell_type": "code",
   "execution_count": 108,
   "id": "705deec1-97e8-439a-8ba4-092761a699f6",
   "metadata": {},
   "outputs": [
    {
     "data": {
      "text/plain": [
       "year                                                     0\n",
       "Currenc_ in_circulation-Total                            0\n",
       "Other'_deposits_with_RBI                                 0\n",
       "Bankers'_deposits_with_RBI                               0\n",
       "Reserve_Money_(Liabilities/Components)                   0\n",
       "RBI's_Claims_on-Government (net)                         0\n",
       "RBI's_Claims_on_Central_Govt                             0\n",
       "RBI's_Claims_on_Banks_&_Commercial_sector                0\n",
       "RBI's_Claims_on_Banks_(Including_NABARD)                 0\n",
       "RBI's_claims_on_Commercial_sector (Excluding_NABARD)     0\n",
       "Net_foreign_exchange_assets_of_RBI                       0\n",
       "Govt't_currency_liabilities_to_the_public                0\n",
       "Ne_ non-monetary_liabilities_of_RBI                      0\n",
       "dtype: int64"
      ]
     },
     "execution_count": 108,
     "metadata": {},
     "output_type": "execute_result"
    }
   ],
   "source": [
    "dataset.isnull().sum()"
   ]
  },
  {
   "cell_type": "code",
   "execution_count": 109,
   "id": "8704fa27-d542-4178-a70d-4ba204db2a92",
   "metadata": {},
   "outputs": [
    {
     "name": "stdout",
     "output_type": "stream",
     "text": [
      "<class 'pandas.core.frame.DataFrame'>\n",
      "Index: 932 entries, 0 to 931\n",
      "Data columns (total 13 columns):\n",
      " #   Column                                                 Non-Null Count  Dtype         \n",
      "---  ------                                                 --------------  -----         \n",
      " 0   year                                                   932 non-null    datetime64[ns]\n",
      " 1   Currenc_ in_circulation-Total                          932 non-null    float64       \n",
      " 2   Other'_deposits_with_RBI                               932 non-null    float64       \n",
      " 3   Bankers'_deposits_with_RBI                             932 non-null    float64       \n",
      " 4   Reserve_Money_(Liabilities/Components)                 932 non-null    float64       \n",
      " 5   RBI's_Claims_on-Government (net)                       932 non-null    float64       \n",
      " 6   RBI's_Claims_on_Central_Govt                           932 non-null    object        \n",
      " 7   RBI's_Claims_on_Banks_&_Commercial_sector              932 non-null    float64       \n",
      " 8   RBI's_Claims_on_Banks_(Including_NABARD)               932 non-null    float64       \n",
      " 9   RBI's_claims_on_Commercial_sector (Excluding_NABARD)   932 non-null    float64       \n",
      " 10  Net_foreign_exchange_assets_of_RBI                     932 non-null    float64       \n",
      " 11  Govt't_currency_liabilities_to_the_public              932 non-null    float64       \n",
      " 12  Ne_ non-monetary_liabilities_of_RBI                    932 non-null    float64       \n",
      "dtypes: datetime64[ns](1), float64(11), object(1)\n",
      "memory usage: 101.9+ KB\n"
     ]
    }
   ],
   "source": [
    "dataset.info()"
   ]
  },
  {
   "cell_type": "markdown",
   "id": "008b2811-4c89-4b5b-8459-251c991bf922",
   "metadata": {},
   "source": [
    "#RBI_CLAIM_ON_CENTRAL_GOVT(changing data type)"
   ]
  },
  {
   "cell_type": "code",
   "execution_count": 110,
   "id": "72b08b47-bc47-4b59-aa2a-03b86bf3f824",
   "metadata": {},
   "outputs": [
    {
     "data": {
      "text/plain": [
       "0       988987\n",
       "1       969138\n",
       "2      1065083\n",
       "3      1073847\n",
       "4      1010579\n",
       "        ...   \n",
       "927     103357\n",
       "928     105402\n",
       "929     106941\n",
       "930     116319\n",
       "931     111794\n",
       "Name: RBI's_Claims_on_Central_Govt, Length: 932, dtype: object"
      ]
     },
     "execution_count": 110,
     "metadata": {},
     "output_type": "execute_result"
    }
   ],
   "source": [
    "dataset[\"RBI's_Claims_on_Central_Govt\"]"
   ]
  },
  {
   "cell_type": "code",
   "execution_count": 113,
   "id": "4672dc33-143f-4c18-95c4-eb49e17a888f",
   "metadata": {},
   "outputs": [
    {
     "name": "stdout",
     "output_type": "stream",
     "text": [
      "[988987 969138 1065083 1073847 1010579 1066981 1113525 1174056 1131059\n",
      " 1119275 1156695 1174782 1172777 1259291 1302024 1308132 1310242 1213497\n",
      " 1211209 1170729 1085232 989741 1092210 993718 1017813 1030214 987699\n",
      " 933267 989188 1005672 1055869 1006079 1062561 1060612 1129947 987342\n",
      " 978707 1033712 1055339 1000030 964882 1022854 1002078 1057618 966332\n",
      " 967596 993049 1039137 936472 862118 959745 975695 934358 1044617 1087908\n",
      " 1085236 1115595 1022930 1051551 1064734 1057423 991132 919575 1014539\n",
      " 1000637 942720 878725 896301 883237 878708 842785 863431 876952 862924\n",
      " 800473 845775 878730 919675 905812 912688 827529 868997 837806 894282\n",
      " 850181 858459 864112 873948 737566 682481 786783 774259 785093 712763\n",
      " 749282 726990 721295 649327 658214 700627 711539 646792 551792 660181\n",
      " 687165 683053 646088 663178 667126 728231 633442 662526 678777 723754\n",
      " 658930 618841 663168 686214 674814 622133 606900 602440 603647 600176\n",
      " 577141 617491 530072 474286 465459 420303 447124 442067 445953 401645\n",
      " 415752 425977 435638 414895 457810 462862 500117 423497 384797 505134\n",
      " 525255 517013 444553 497111 495527 527172 492071 515451 538013 581305\n",
      " 541299 492995 559077 609405 640684 571341 640506 619211 696783 625211\n",
      " 645412 673716 713238 664138 666096 650740 680125 743446 685727 685814\n",
      " 664699 725508 718849 752643 709215 693956 619591 625843 590806 650074\n",
      " 633522 544069 491304 428594 381010 208434 137197 23057 16553\n",
      " 50829.9999999999 11 56957 472437 650405 607884 633971 644679 711592\n",
      " 645504 606388 651023 687862 696482 622324 606454 718828 736967 667016\n",
      " 690458 642559 755770 701986 698368 711715 703710 697045 659441 640396\n",
      " 692076 697386 629619 615654 612616 633771 615052 609973 624814 556301\n",
      " 425288 424562 430999 429037 489964 524619 447276 442034 425912 484926\n",
      " 413837 408221 427335 427772 437974 392034 380868 470017 498235 449591\n",
      " 452750 447437 484819 438016 444843 459997 450306 491320 427771 415950\n",
      " 513416 561161 467222 469281 475049 546916 499020 482478 490277\n",
      " 497364.7699 526082.9626 443521.1625 457689.4041 475430.7642 467441.4489\n",
      " 423249.8114 411187.9614 418331.651 415563.8317 429517.437 434572.7845\n",
      " 454490.2922 444507.4608 403817.8015 361038.0383 378475.3204 362976.7593\n",
      " 424457.7822 481068.0905 436373.2866 461882.9824 431905.1795 475311.6149\n",
      " 456052.2411 456542.3465 493186.3642 511335.4269 523327.7898 506376.7749\n",
      " 505611.1889 563964.1708 580403.8027 555759.2832 565714.0085 581928.7037\n",
      " 597409.551 565285.8913 565144.472 557775.3584 575967.8503 604933.6006\n",
      " 538444.973 522207.2679 565242.5355 586505.4274 535121.6877 515556.9432\n",
      " 505286.188 554278.2849 539490.3617 528031.3771 559960.09 567339.7353\n",
      " 663316.3736 663985.5375 670815.0956 703019.0785 696290.7484 669581.8501\n",
      " 661281.459 649663.5153 651299.1474 638522.6543 641706.9583 655013.7088\n",
      " 633926.0916 617395.3903 697643.074 684941.8026 654995.9513 734921.022\n",
      " 687104.0055 679354.3113 658541.3346 659774.6569 656339.2467 644079.0715\n",
      " 659115.3118 648285.6635 638159.4726 631969.9556 625765.7613 629801.6474\n",
      " 675421.5681 653090.2595 658428.4559 677717.2261 708086.4649 707553.585\n",
      " 708851.1472 679594.4351 695061.0712 679702.8372 662853.3228 686784.1642\n",
      " 678695.2663 724092.3871 685680.7183 664557.173327 657039.017759\n",
      " 661123.353422 653848.833476 671629.245678 669756.275208 669317.533918\n",
      " 685310.244227 641501.516248 677256.671192 654677.622223 685892.033764\n",
      " 637489.157226 645289.909198 632156.975617 673589.108125 648454.348937\n",
      " 626810.364321 632976.013526 644346.625151 629944.358567 556080.207216\n",
      " 590498.8268 636418.015338 585425.934943 618972.440472 579401.927716\n",
      " 582457.669026 592442.92443 580813.511119 575778.846068 594349.667265\n",
      " 585027.618732 574159.107377 567802.248288 537672.7929 549798.776959\n",
      " 559741.9434 595976.436186 563999.980481 535686.997992 565831.326351\n",
      " 575453.384137 540756.539103 519512.577891 541268.457388 554447.226734\n",
      " 509340.912452 482820.723166 549202.168354 535619.211146 573915.27473\n",
      " 542168.682226 545684.675531 539955.922545 560087.444896 549851.515051\n",
      " 544366.812549 546396.389562 571633.445129 559078.66816 521981.436382\n",
      " 567220.974248 571684.970995 574197.5376 576855.7151 539000.7122\n",
      " 559687.0037 554843.4928 569470.9329 524428.4666 551303.7064 547855.8188\n",
      " 516922.7745 484402.6676 541099.2364 517986.8183 492244.6597 505247.4792\n",
      " 543638.2811 488298.4043 534289.6996 499307.0721 499511.5795 518352.0838\n",
      " 530639.255 493179.9648 479394.7729 450060.6464 502525.6041 437710.6611\n",
      " 434448.1881 406053.3297 423135.6392 415623.2606 436416.9674 380167.0951\n",
      " 391681.2849 394345.7994 384836.4558 342007.0561 406190.3782 356251.8084\n",
      " 378659.9818 377191.0964 375188.8504 367740.9631 371775.1451 369904.1831\n",
      " 361713.0333 372159.3824 366471.9496 374836.4609 343198.9486 404212.7559\n",
      " 388176.773 375615.0802 393370.5748 371245.0711 387093.9975 379696.6806\n",
      " 406041.7036 367154.4689 376032.3639 364705.0339 373247.5387 276365.659\n",
      " 395800.62 315701.19 341731.13 311363.67 307534.14 299053.38 315150.81\n",
      " 297487.35 286781.66 268592.98 309908.81 278866.99 271550.46 263993.84\n",
      " 277183.02 270929.69 282437.33 256058.98 263290.26 258094.88 289660.61\n",
      " 261591.68 277616.6 203643.05 259080.3 193452.24 228319.5 206802.05\n",
      " 215292.3 242212.61 205491.36 207291.29 225447.45 209164.03 221878.16\n",
      " 222676.03 247785.05 226760.19 232493.51 223285.19 244751.35 227388.24\n",
      " 244734.97 213854.51 241963.87 212526.31 223339.49 213906.83 228836.685\n",
      " 189235.53 197425.61 128750.07 221831.32 170376.06 171389.2 161603.17\n",
      " 139018.81 152788.2 131328.62 116740.66 79568.33 89475.96 95028.62\n",
      " 91399.53 75830.48 45595.61 101240.88 86893.03 71723.17 72163.38 67722.08\n",
      " 71300.574 64523.56 51033.88 69610.97 43251.69 85884.15 5406.65 54750.28\n",
      " 35295.82 26387.95 41259.72 4547.73 10102.32 30249.87 6439.52 43107.52\n",
      " 27887.09 39543.33 41981.62 40184.03 24261.34 43634.33 50263.98 68821.26\n",
      " 60174.91 61169.65 57315.85 65789.2 43162.22 71736.92 50460.06 31844.49\n",
      " -10182.77 12256.43 33890.38 13137.3 -3236.82 -10639.38 -39991.989\n",
      " -12447.11 -29772.55 -35865.52 -47690 -49452.98 -28495.14 -18679.52\n",
      " -56467.52 -35100.97 -31895.37 -26550.14 -44012.62 -36125.87 -61502.98\n",
      " -52142.08 -72660.84 -9079.77 -109174.35 -99102.1 -31629.98 -24824.2\n",
      " -61827.42 -44202.96 -72143.9 -57334.52 -89188.56 -67389.02 -74067.4\n",
      " -52954.27 -76532.11 -43847.21 -59054.95 -52642.78 -108980.81 -82818.44\n",
      " -113206.25 -96418.97 -124165.33 -100533.9 -144584.61 -100623.84 -141151.1\n",
      " -137970 -160914.65 -137570.24 -173751.19 -183697.3 -168193.96 -138345.99\n",
      " -161412.21 -149982.58 -172281.11 -155512.38 -178084.13 -168149.337\n",
      " -128516.69 -160876.73 -155679.36 -146307.58 -150277.51 -119921.14\n",
      " -140355.31 -110587.41 -126193.74 -126920.7 -142102.51 -109348.4\n",
      " -130471.71 -138334.27 -137368.32 -140980.29 -136811.81 -135916.61\n",
      " -75277.3 -79438.63 -61877.14 -75506.76 -64271.22 -60479.42 -80192.87\n",
      " -65262.07 14593.4 8152.23 21010.83 13447.69 27846.51 25041.86 -19689.54\n",
      " 880.21 11795.42 21948.47 5529.26 11848.31 4230.09 14234.86 17990.59\n",
      " 9137.27 -18485.96 -12802.45 -2760.73 -107.77 -3337.01 -1458.15 -19760.18\n",
      " -14694.51 -87.38 -206.5 12541.09 18780.62 12123.11 18182.9 -919.46\n",
      " 19595.9 -1753.34 11954.02 4166.7 -3681.24 3271.69 8850.84 3788.55\n",
      " 18021.59 10616.94 20188.86 2566.67 -6394.55 10814.73 -9613.51 6831.81\n",
      " -6016.54 -8050.1 -3286.33 -1257.87 -2637.76 -980.23 -2975.5 -1195.88\n",
      " 3423.74 -2344.42 5694.65 8230.49 13513.8 10785.59 3222.14 7775.05 7434.09\n",
      " 11772.07 13316.75 16995.65 4136.9 -10447.26 -2652.85 5159.63 16095.41\n",
      " 24877.28 31474.41 32912.39 33646.01 24795.65 35574.3 26341 34859.12\n",
      " 27363.93 46697.64 18925.48 27479.11 -14096.39 7066.05 -5700.03 -8535.8\n",
      " -8064.43 -1581.67 -7029.59 526.45 -19852.85 -18184.42 -11361.16 -25545.74\n",
      " -33908.73 -22292.66 -26556.43 -40447.52 -35714.55 -33429.6 -25656.47\n",
      " -29266.38 -33054.05 -9878.02 -7926.81 2272.67 -5609.51 -3499.45 -8658.04\n",
      " -716.09 -728.66 -4312.14 -16920.93 -1023.62 5516.95 -7026.74 -5850.11\n",
      " -13760.39 -8719.93 -17846.79 -28214.07 -8519 -30770 -14280 -16713 -6881\n",
      " -4517 11453 11849 10137 11023 9908 -3686 15337 2594 7686 4626 8910 14052\n",
      " 29637 27380 27093 18135 25371 15524 15312 7868 7880 2392 5782 7761 750\n",
      " 7380 14163 4137 1554 -1640 3693 '-' 577 6891 -1207 9288 5016 651 10320\n",
      " 4957 1272 7689 5760 -6028 10623 22599 27445 23305 34010 32650 30566 30512\n",
      " 35269 34307 35841 48250 36919 40459 43737 43831 45488 53083 52263 57997\n",
      " 54618 58203 61156 66168 66684 59518 76015 72321 59439 59675 73219 69635\n",
      " 63957 69548 83215 82328 78176 93572 87326 94314 99183 113419 107799\n",
      " 116856 109970 119764 108577 126170 114213 126664 108008 122691 107937\n",
      " 103489 114968 106292 117286 113721 113829 95908 105258 102984 102858\n",
      " 102114 101410 113070 103357 105402 106941 116319 111794]\n"
     ]
    }
   ],
   "source": [
    "print(dataset[\"RBI's_Claims_on_Central_Govt\"].unique())"
   ]
  },
  {
   "cell_type": "code",
   "execution_count": 114,
   "id": "548f7d3d-9e73-4926-86a3-9f32452974e0",
   "metadata": {},
   "outputs": [],
   "source": [
    "dataset[\"RBI's_Claims_on_Central_Govt\"] = pd.to_numeric(dataset[\"RBI's_Claims_on_Central_Govt\"],errors='coerce')"
   ]
  },
  {
   "cell_type": "code",
   "execution_count": 116,
   "id": "275eba48-edb7-4008-a329-599cc31cb2d7",
   "metadata": {},
   "outputs": [],
   "source": [
    "dataset[\"RBI's_Claims_on_Central_Govt\"] = dataset[\"RBI's_Claims_on_Central_Govt\"].astype(float)"
   ]
  },
  {
   "cell_type": "code",
   "execution_count": 117,
   "id": "fdb6b522-5a52-4982-8ada-84d5318291ea",
   "metadata": {},
   "outputs": [
    {
     "name": "stdout",
     "output_type": "stream",
     "text": [
      "1\n"
     ]
    }
   ],
   "source": [
    "print(dataset[\"RBI's_Claims_on_Central_Govt\"].isna().sum())"
   ]
  },
  {
   "cell_type": "code",
   "execution_count": 118,
   "id": "7926a063-3188-4e1d-b407-96ea6387ff99",
   "metadata": {},
   "outputs": [],
   "source": [
    "dataset.dropna(subset=[\"RBI's_Claims_on_Central_Govt\"],inplace=True) "
   ]
  },
  {
   "cell_type": "code",
   "execution_count": 119,
   "id": "4f5694bc-2428-45de-aa28-31ea8c7f4d60",
   "metadata": {},
   "outputs": [
    {
     "name": "stdout",
     "output_type": "stream",
     "text": [
      "<class 'pandas.core.frame.DataFrame'>\n",
      "Index: 931 entries, 0 to 931\n",
      "Data columns (total 13 columns):\n",
      " #   Column                                                 Non-Null Count  Dtype         \n",
      "---  ------                                                 --------------  -----         \n",
      " 0   year                                                   931 non-null    datetime64[ns]\n",
      " 1   Currenc_ in_circulation-Total                          931 non-null    float64       \n",
      " 2   Other'_deposits_with_RBI                               931 non-null    float64       \n",
      " 3   Bankers'_deposits_with_RBI                             931 non-null    float64       \n",
      " 4   Reserve_Money_(Liabilities/Components)                 931 non-null    float64       \n",
      " 5   RBI's_Claims_on-Government (net)                       931 non-null    float64       \n",
      " 6   RBI's_Claims_on_Central_Govt                           931 non-null    float64       \n",
      " 7   RBI's_Claims_on_Banks_&_Commercial_sector              931 non-null    float64       \n",
      " 8   RBI's_Claims_on_Banks_(Including_NABARD)               931 non-null    float64       \n",
      " 9   RBI's_claims_on_Commercial_sector (Excluding_NABARD)   931 non-null    float64       \n",
      " 10  Net_foreign_exchange_assets_of_RBI                     931 non-null    float64       \n",
      " 11  Govt't_currency_liabilities_to_the_public              931 non-null    float64       \n",
      " 12  Ne_ non-monetary_liabilities_of_RBI                    931 non-null    float64       \n",
      "dtypes: datetime64[ns](1), float64(12)\n",
      "memory usage: 101.8 KB\n"
     ]
    }
   ],
   "source": [
    "dataset.info()"
   ]
  },
  {
   "cell_type": "code",
   "execution_count": 120,
   "id": "44520198-0d7a-41ec-819b-f6ca925f539f",
   "metadata": {},
   "outputs": [],
   "source": [
    "dataset.to_excel(\"cleaned_dataset.xlsx\",index=False)"
   ]
  },
  {
   "cell_type": "code",
   "execution_count": null,
   "id": "7031d30a-b205-4541-9b0d-c99f87d4e569",
   "metadata": {},
   "outputs": [],
   "source": []
  }
 ],
 "metadata": {
  "kernelspec": {
   "display_name": "Python 3 (ipykernel)",
   "language": "python",
   "name": "python3"
  },
  "language_info": {
   "codemirror_mode": {
    "name": "ipython",
    "version": 3
   },
   "file_extension": ".py",
   "mimetype": "text/x-python",
   "name": "python",
   "nbconvert_exporter": "python",
   "pygments_lexer": "ipython3",
   "version": "3.11.7"
  }
 },
 "nbformat": 4,
 "nbformat_minor": 5
}
